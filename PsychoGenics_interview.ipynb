{
 "cells": [
  {
   "cell_type": "markdown",
   "id": "30e5a838",
   "metadata": {},
   "source": [
    "## Predicting Energy demand based on temperature\n"
   ]
  },
  {
   "cell_type": "markdown",
   "id": "fc68c04a",
   "metadata": {},
   "source": [
    "We will be using the train_data and test_data to train and test an ML model.\n",
    "- first section will be on batch data(batchlearning).\n",
    "- Second section of this note book will using incremental learning method."
   ]
  },
  {
   "cell_type": "markdown",
   "id": "bb43e9f5",
   "metadata": {},
   "source": [
    "### Batchlearning\n",
    "- This is using stored historical data to train an ML model\n",
    "- This will be implemented us SKLearn and Keras\n"
   ]
  },
  {
   "cell_type": "markdown",
   "id": "5b0f1498",
   "metadata": {},
   "source": [
    "Importing the necessary libraries"
   ]
  },
  {
   "cell_type": "code",
   "execution_count": 1,
   "id": "c8af5e23",
   "metadata": {},
   "outputs": [],
   "source": [
    "# Importing Libraies\n",
    "import numpy as np\n",
    "import pandas as pd\n",
    "import matplotlib.pyplot as plt\n",
    "from sklearn.model_selection import train_test_split\n",
    "from sklearn.preprocessing import StandardScaler\n",
    "from sklearn.model_selection import cross_val_score\n",
    "from sklearn import svm\n",
    "from sklearn.metrics import mean_squared_error, mean_absolute_error,r2_score\n",
    "import tensorflow as tf\n",
    "from tensorflow import keras\n",
    "from tensorflow.keras import layers\n",
    "from keras.callbacks import Callback"
   ]
  },
  {
   "cell_type": "markdown",
   "id": "41a79cda",
   "metadata": {},
   "source": [
    "Data Preprocessing\n",
    "- data ingestion\n",
    "- exploratory analysis\n",
    "- cleaning"
   ]
  },
  {
   "cell_type": "code",
   "execution_count": 2,
   "id": "2c2187c0",
   "metadata": {},
   "outputs": [
    {
     "data": {
      "text/html": [
       "<div>\n",
       "<style scoped>\n",
       "    .dataframe tbody tr th:only-of-type {\n",
       "        vertical-align: middle;\n",
       "    }\n",
       "\n",
       "    .dataframe tbody tr th {\n",
       "        vertical-align: top;\n",
       "    }\n",
       "\n",
       "    .dataframe thead th {\n",
       "        text-align: right;\n",
       "    }\n",
       "</style>\n",
       "<table border=\"1\" class=\"dataframe\">\n",
       "  <thead>\n",
       "    <tr style=\"text-align: right;\">\n",
       "      <th></th>\n",
       "      <th>temperature</th>\n",
       "      <th>demand</th>\n",
       "    </tr>\n",
       "  </thead>\n",
       "  <tbody>\n",
       "    <tr>\n",
       "      <th>0</th>\n",
       "      <td>37.212162</td>\n",
       "      <td>164.733179</td>\n",
       "    </tr>\n",
       "    <tr>\n",
       "      <th>1</th>\n",
       "      <td>40.679730</td>\n",
       "      <td>689.095128</td>\n",
       "    </tr>\n",
       "    <tr>\n",
       "      <th>2</th>\n",
       "      <td>43.404054</td>\n",
       "      <td>682.134571</td>\n",
       "    </tr>\n",
       "    <tr>\n",
       "      <th>3</th>\n",
       "      <td>24.763514</td>\n",
       "      <td>703.016241</td>\n",
       "    </tr>\n",
       "    <tr>\n",
       "      <th>4</th>\n",
       "      <td>26.962162</td>\n",
       "      <td>686.774942</td>\n",
       "    </tr>\n",
       "  </tbody>\n",
       "</table>\n",
       "</div>"
      ],
      "text/plain": [
       "   temperature      demand\n",
       "0    37.212162  164.733179\n",
       "1    40.679730  689.095128\n",
       "2    43.404054  682.134571\n",
       "3    24.763514  703.016241\n",
       "4    26.962162  686.774942"
      ]
     },
     "execution_count": 2,
     "metadata": {},
     "output_type": "execute_result"
    }
   ],
   "source": [
    "#Data Ingestion\n",
    "training_set=pd.read_csv('train_data.csv',index_col=[0])\n",
    "# checking if data was loaded correctly\n",
    "training_set.head()"
   ]
  },
  {
   "cell_type": "code",
   "execution_count": 3,
   "id": "871103cc",
   "metadata": {},
   "outputs": [
    {
     "name": "stdout",
     "output_type": "stream",
     "text": [
      "       temperature       demand\n",
      "count   260.000000   260.000000\n",
      "mean     51.353935   768.367678\n",
      "std      15.242134   126.565154\n",
      "min      12.260811   161.252900\n",
      "25%      39.035811   699.342614\n",
      "50%      53.155405   804.524362\n",
      "75%      64.799324   849.284609\n",
      "max      76.514865  1000.000000\n",
      "temperature    float64\n",
      "demand         float64\n",
      "dtype: object\n",
      "     temperature  demand\n",
      "0          False   False\n",
      "1          False   False\n",
      "2          False   False\n",
      "3          False   False\n",
      "4          False   False\n",
      "..           ...     ...\n",
      "255        False   False\n",
      "256        False   False\n",
      "257        False   False\n",
      "258        False   False\n",
      "259        False   False\n",
      "\n",
      "[260 rows x 2 columns]\n"
     ]
    }
   ],
   "source": [
    "# getting some info about our data\n",
    "print(training_set.describe()) # general statistics\n",
    "print(training_set.dtypes) # data type\n",
    "print(training_set.isnull()) #checking for missing data points"
   ]
  },
  {
   "cell_type": "code",
   "execution_count": 4,
   "id": "c52e8d20",
   "metadata": {},
   "outputs": [
    {
     "data": {
      "text/plain": [
       "array([[<AxesSubplot:title={'center':'temperature'}>,\n",
       "        <AxesSubplot:title={'center':'demand'}>]], dtype=object)"
      ]
     },
     "execution_count": 4,
     "metadata": {},
     "output_type": "execute_result"
    },
    {
     "data": {
      "image/png": "[encoded data removed]",
      "text/plain": [
       "<Figure size 432x288 with 2 Axes>"
      ]
     },
     "metadata": {
      "needs_background": "light"
     },
     "output_type": "display_data"
    }
   ],
   "source": [
    "# Data distribution with histogram plot\n",
    "training_set.hist()"
   ]
  },
  {
   "cell_type": "code",
   "execution_count": 5,
   "id": "7bd2a772",
   "metadata": {},
   "outputs": [
    {
     "data": {
      "text/plain": [
       "<AxesSubplot:>"
      ]
     },
     "execution_count": 5,
     "metadata": {},
     "output_type": "execute_result"
    },
    {
     "data": {
      "image/png": "[encoded data removed]",
      "text/plain": [
       "<Figure size 432x288 with 1 Axes>"
      ]
     },
     "metadata": {
      "needs_background": "light"
     },
     "output_type": "display_data"
    }
   ],
   "source": [
    "# We do not have a normal distribution,we will investigate outliers with a boxplot.\n",
    "# Visualizing training data for outlier\n",
    "training_set.boxplot()"
   ]
  },
  {
   "cell_type": "code",
   "execution_count": 6,
   "id": "4edbd239",
   "metadata": {},
   "outputs": [
    {
     "data": {
      "text/plain": [
       "array([[<AxesSubplot:xlabel='temperature', ylabel='temperature'>,\n",
       "        <AxesSubplot:xlabel='demand', ylabel='temperature'>],\n",
       "       [<AxesSubplot:xlabel='temperature', ylabel='demand'>,\n",
       "        <AxesSubplot:xlabel='demand', ylabel='demand'>]], dtype=object)"
      ]
     },
     "execution_count": 6,
     "metadata": {},
     "output_type": "execute_result"
    },
    {
     "data": {
      "image/png": "[encoded data removed]",
      "text/plain": [
       "<Figure size 432x432 with 4 Axes>"
      ]
     },
     "metadata": {
      "needs_background": "light"
     },
     "output_type": "display_data"
    }
   ],
   "source": [
    "#Exploring feature relationship\n",
    "from pandas.plotting import scatter_matrix\n",
    "scatter_matrix(training_set, alpha=0.2, figsize=(6, 6), diagonal='kde')"
   ]
  },
  {
   "cell_type": "markdown",
   "id": "20814ce4",
   "metadata": {},
   "source": [
    "After our exploratory analysis,we found the follow information:\n",
    "- we had no missing data\n",
    "- our data distribution was skewed\n",
    "- our data had some outliers\n",
    "- our data had a linear relationship\n",
    "the only data cleaning step is taking care of the outliers"
   ]
  },
  {
   "cell_type": "code",
   "execution_count": 7,
   "id": "eb0d9b83",
   "metadata": {},
   "outputs": [
    {
     "data": {
      "text/plain": [
       "<AxesSubplot:>"
      ]
     },
     "execution_count": 7,
     "metadata": {},
     "output_type": "execute_result"
    },
    {
     "data": {
      "image/png": "[encoded data removed]",
      "text/plain": [
       "<Figure size 432x288 with 1 Axes>"
      ]
     },
     "metadata": {
      "needs_background": "light"
     },
     "output_type": "display_data"
    }
   ],
   "source": [
    "# data cleaning\n",
    "#We use the Turkey rule to detect outlier\n",
    "Q1=training_set['demand'].quantile(0.25)\n",
    "Q3=training_set['demand'].quantile(0.75)\n",
    "IQR=Q3-Q1\n",
    "lower_lim=Q1-1.5*IQR\n",
    "upper_lim=Q3+1.5*IQR\n",
    "# using the above condition to drop outliers\n",
    "filtered_data=training_set[training_set['demand'] >= lower_lim]\n",
    "\n",
    "#doing a boxplot to visualize if the outliers are filtered out\n",
    "filtered_data.boxplot()"
   ]
  },
  {
   "cell_type": "code",
   "execution_count": 8,
   "id": "29d14a68",
   "metadata": {},
   "outputs": [],
   "source": [
    "# Processing our data set\n",
    "# Seperating features from targets variables[x is the feature and y is the dependent variable(target)]\n",
    "X=filtered_data.iloc[:,:-1].values\n",
    "y=filtered_data.iloc[:,1:2].values\n",
    "# Splitting Data\n",
    "x_train, x_test, y_train, y_test = train_test_split(\n",
    "    X, y, test_size=0.10, random_state=0)\n",
    "#Scaling our data by using StandardScalar(to have a uniform scale)\n",
    "sc=StandardScaler()\n",
    "x_train=sc.fit_transform(x_train)\n",
    "x_test=sc.transform(x_test)"
   ]
  },
  {
   "cell_type": "markdown",
   "id": "a236b181",
   "metadata": {},
   "source": [
    "SVM model"
   ]
  },
  {
   "cell_type": "code",
   "execution_count": 9,
   "id": "4fa58525",
   "metadata": {},
   "outputs": [
    {
     "name": "stderr",
     "output_type": "stream",
     "text": [
      "C:\\Users\\gjera\\anaconda3\\lib\\site-packages\\sklearn\\utils\\validation.py:993: DataConversionWarning: A column-vector y was passed when a 1d array was expected. Please change the shape of y to (n_samples, ), for example using ravel().\n",
      "  y = column_or_1d(y, warn=True)\n"
     ]
    },
    {
     "data": {
      "text/plain": [
       "SVR(kernel='linear')"
      ]
     },
     "execution_count": 9,
     "metadata": {},
     "output_type": "execute_result"
    }
   ],
   "source": [
    "# Create linear regression object\n",
    "regr_svm = svm.SVR(kernel='linear')\n",
    "# Train the model using the training sets\n",
    "regr_svm.fit(x_train, y_train)"
   ]
  },
  {
   "cell_type": "code",
   "execution_count": 10,
   "id": "e6c71199",
   "metadata": {},
   "outputs": [],
   "source": [
    "#Checking parameters of my nodel\n",
    "#regr_svm.get_params()\n",
    "#Giving that this is a simple model for illustration,we will not do any hyper_parameters tunning"
   ]
  },
  {
   "cell_type": "markdown",
   "id": "ecc5fa7a",
   "metadata": {},
   "source": [
    "\n",
    "    Evaluating our model"
   ]
  },
  {
   "cell_type": "code",
   "execution_count": 11,
   "id": "0d666503",
   "metadata": {},
   "outputs": [
    {
     "name": "stdout",
     "output_type": "stream",
     "text": [
      "Coefficients: \n",
      " [[59.40744115]]\n",
      "mae: 47.02\n",
      "Coefficient of determination: 0.58\n"
     ]
    }
   ],
   "source": [
    "# Make predictions using the testing set\n",
    "y_pred = regr_svm.predict(x_test)\n",
    "# The coefficients\n",
    "print(\"Coefficients: \\n\", regr_svm.coef_)\n",
    "# The mean squared error\n",
    "print(\"mae: %.2f\" %  mean_absolute_error(y_test, y_pred))\n",
    "# The coefficient of determination: 1 is perfect prediction\n",
    "print(\"Coefficient of determination: %.2f\" % r2_score(y_test,y_pred))\n"
   ]
  },
  {
   "cell_type": "code",
   "execution_count": 12,
   "id": "3f62c9d3",
   "metadata": {},
   "outputs": [
    {
     "data": {
      "image/png": "[encoded data removed]",
      "text/plain": [
       "<Figure size 864x432 with 1 Axes>"
      ]
     },
     "metadata": {
      "needs_background": "light"
     },
     "output_type": "display_data"
    }
   ],
   "source": [
    "#Plotting the result\n",
    "def plot_preds(traindata = x_train,\n",
    "               trainlabels = y_train,\n",
    "               testdata =x_test,\n",
    "               testlabels = y_test,\n",
    "               predictions =y_pred):\n",
    "  plt.figure(figsize=(12,6))\n",
    "  plt.scatter(traindata, trainlabels, c=\"b\", label=\"Training data\")\n",
    "  plt.scatter(testdata, testlabels, c=\"g\", label=\"Testing data\")\n",
    "  plt.scatter(testdata, predictions, c=\"r\", label=\"Predictions\")\n",
    "  plt.legend()\n",
    "plot_preds(traindata =x_train,\n",
    "\n",
    "           trainlabels = y_train,\n",
    "\n",
    "           testdata = x_test,\n",
    "\n",
    "           testlabels = y_test,\n",
    "\n",
    "           predictions = y_pred)"
   ]
  },
  {
   "cell_type": "markdown",
   "id": "f4ad327c",
   "metadata": {},
   "source": [
    "DNN_Regression"
   ]
  },
  {
   "cell_type": "code",
   "execution_count": 13,
   "id": "a006a2a0",
   "metadata": {},
   "outputs": [
    {
     "data": {
      "text/plain": [
       "<keras.callbacks.History at 0x2452f95a310>"
      ]
     },
     "execution_count": 13,
     "metadata": {},
     "output_type": "execute_result"
    }
   ],
   "source": [
    "# Building the DNN\n",
    "model= tf.keras.Sequential([\n",
    "  tf.keras.layers.Dense(100, activation = tf.keras.activations.relu),\n",
    "    tf.keras.layers.Dense(10),\n",
    "    tf.keras.layers.Dense(1)\n",
    "])\n",
    "#Compiling the Model\n",
    "model.compile(loss=tf.keras.losses.mae,\n",
    "                optimizer=tf.keras.optimizers.Adam(),\n",
    "                metrics=['mae'])\n",
    "# training the model\n",
    "model.fit(x_train, y_train, epochs=500, verbose=0)"
   ]
  },
  {
   "cell_type": "code",
   "execution_count": 14,
   "id": "e671f81a",
   "metadata": {},
   "outputs": [
    {
     "name": "stdout",
     "output_type": "stream",
     "text": [
      "1/1 [==============================] - 1s 835ms/step - loss: 47.4313 - mae: 47.4313\n"
     ]
    },
    {
     "data": {
      "text/plain": [
       "[47.431339263916016, 47.431339263916016]"
      ]
     },
     "execution_count": 14,
     "metadata": {},
     "output_type": "execute_result"
    }
   ],
   "source": [
    "#evaluating the model\n",
    "y_pred=model.predict(x_test)\n",
    "model.evaluate(x_test,y_test)\n",
    "#This model can be optmized using KerasTuner"
   ]
  },
  {
   "cell_type": "code",
   "execution_count": 15,
   "id": "c8540598",
   "metadata": {},
   "outputs": [
    {
     "data": {
      "image/png": "[encoded data removed]",
      "text/plain": [
       "<Figure size 864x432 with 1 Axes>"
      ]
     },
     "metadata": {
      "needs_background": "light"
     },
     "output_type": "display_data"
    }
   ],
   "source": [
    "#Plotting the result\n",
    "def plot_preds(traindata = x_train,\n",
    "               trainlabels = y_train,\n",
    "               testdata =x_test,\n",
    "               testlabels = y_test,\n",
    "               predictions =y_pred):\n",
    "  plt.figure(figsize=(12,6))\n",
    "  plt.scatter(traindata, trainlabels, c=\"b\", label=\"Training data\")\n",
    "  plt.scatter(testdata, testlabels, c=\"g\", label=\"Testing data\")\n",
    "  plt.scatter(testdata, predictions, c=\"r\", label=\"Predictions\")\n",
    "  plt.legend()\n",
    "plot_preds(traindata =x_train,\n",
    "\n",
    "           trainlabels = y_train,\n",
    "\n",
    "           testdata = x_test,\n",
    "\n",
    "           testlabels = y_test,\n",
    "\n",
    "           predictions = y_pred)"
   ]
  },
  {
   "cell_type": "markdown",
   "id": "91d93c91",
   "metadata": {},
   "source": [
    "## Incremental learning \n",
    "- evolving learning from data stream.\n",
    "- this algorithm process one sample data at a time.\n",
    "- its good when data is not avialable at ones,it is continously being generated."
   ]
  },
  {
   "cell_type": "markdown",
   "id": "e4457f26",
   "metadata": {},
   "source": [
    "Incremental learning method will be implemented using AdaptiveRandomForestRegressor algorithm from the skmultiflow library.This algorithm also adapts to drift and uses the ADWIN algorithm to detect concept drift and also an alerting system."
   ]
  },
  {
   "cell_type": "code",
   "execution_count": 16,
   "id": "6839fbab",
   "metadata": {},
   "outputs": [],
   "source": [
    "# Importing necessary libraries\n",
    "import numpy as np\n",
    "import pandas as pd\n",
    "from skmultiflow.data import FileStream\n",
    "from skmultiflow.meta import AdaptiveRandomForestRegressor"
   ]
  },
  {
   "cell_type": "markdown",
   "id": "7bb77b51",
   "metadata": {},
   "source": [
    "Creating streaming data"
   ]
  },
  {
   "cell_type": "code",
   "execution_count": 17,
   "id": "8d9fe385",
   "metadata": {},
   "outputs": [
    {
     "name": "stderr",
     "output_type": "stream",
     "text": [
      "C:\\Users\\gjera\\anaconda3\\lib\\site-packages\\skmultiflow\\data\\base_stream.py:191: FutureWarning: 'prepare_for_use' has been deprecated in v0.5.0 and will be removed in v0.7.0.\n",
      "New instances of the Stream class are now ready to use after instantiation.\n",
      "  warnings.warn(\n"
     ]
    }
   ],
   "source": [
    "#Setup a data  Stream\n",
    "stream = FileStream('train_data.csv')\n",
    "#Prepare Stream for use\n",
    "stream.prepare_for_use()"
   ]
  },
  {
   "cell_type": "code",
   "execution_count": 18,
   "id": "4082cddd",
   "metadata": {},
   "outputs": [],
   "source": [
    "# Setup the Adaptive Random Forest regressor\n",
    "arf_reg =AdaptiveRandomForestRegressor()"
   ]
  },
  {
   "cell_type": "code",
   "execution_count": 19,
   "id": "d8371bd5",
   "metadata": {},
   "outputs": [
    {
     "name": "stdout",
     "output_type": "stream",
     "text": [
      "Adaptive Random Forest regressor example\n",
      "260 samples analyzed.\n",
      "Mean absolute error: 57.50267125420227\n"
     ]
    }
   ],
   "source": [
    "# Auxiliary variables to control loop and track performance\n",
    "n_samples = 0\n",
    "max_samples =260\n",
    "y_pred = np.zeros(max_samples)\n",
    "y_true = np.zeros(max_samples)\n",
    "# Run test-then-train loop for max_samples and while there is data\n",
    "while n_samples < max_samples and stream.has_more_samples():\n",
    "    X, y = stream.next_sample()\n",
    "    y_true[n_samples] = y[0]\n",
    "    y_pred[n_samples] = arf_reg.predict(X)[0]\n",
    "    arf_reg.partial_fit(X, y)\n",
    "    n_samples += 1\n",
    "# Display results\n",
    "print('Adaptive Random Forest regressor example')\n",
    "print('{} samples analyzed.'.format(n_samples))\n",
    "print('Mean absolute error: {}'.format(np.mean(np.abs(y_true - y_pred))))"
   ]
  },
  {
   "cell_type": "markdown",
   "id": "e7d317cc",
   "metadata": {},
   "source": [
    "## Using the test data to test the algorithms"
   ]
  },
  {
   "cell_type": "code",
   "execution_count": 20,
   "id": "e6d27348",
   "metadata": {},
   "outputs": [
    {
     "data": {
      "text/html": [
       "<div>\n",
       "<style scoped>\n",
       "    .dataframe tbody tr th:only-of-type {\n",
       "        vertical-align: middle;\n",
       "    }\n",
       "\n",
       "    .dataframe tbody tr th {\n",
       "        vertical-align: top;\n",
       "    }\n",
       "\n",
       "    .dataframe thead th {\n",
       "        text-align: right;\n",
       "    }\n",
       "</style>\n",
       "<table border=\"1\" class=\"dataframe\">\n",
       "  <thead>\n",
       "    <tr style=\"text-align: right;\">\n",
       "      <th></th>\n",
       "      <th>temperature</th>\n",
       "      <th>demand</th>\n",
       "    </tr>\n",
       "  </thead>\n",
       "  <tbody>\n",
       "    <tr>\n",
       "      <th>18</th>\n",
       "      <td>29.768919</td>\n",
       "      <td>703.963666</td>\n",
       "    </tr>\n",
       "    <tr>\n",
       "      <th>193</th>\n",
       "      <td>57.886486</td>\n",
       "      <td>818.331957</td>\n",
       "    </tr>\n",
       "    <tr>\n",
       "      <th>183</th>\n",
       "      <td>58.300000</td>\n",
       "      <td>819.570603</td>\n",
       "    </tr>\n",
       "    <tr>\n",
       "      <th>137</th>\n",
       "      <td>71.275676</td>\n",
       "      <td>959.124690</td>\n",
       "    </tr>\n",
       "    <tr>\n",
       "      <th>40</th>\n",
       "      <td>26.424324</td>\n",
       "      <td>689.925681</td>\n",
       "    </tr>\n",
       "  </tbody>\n",
       "</table>\n",
       "</div>"
      ],
      "text/plain": [
       "     temperature      demand\n",
       "18     29.768919  703.963666\n",
       "193    57.886486  818.331957\n",
       "183    58.300000  819.570603\n",
       "137    71.275676  959.124690\n",
       "40     26.424324  689.925681"
      ]
     },
     "execution_count": 20,
     "metadata": {},
     "output_type": "execute_result"
    }
   ],
   "source": [
    "#Data Ingestion\n",
    "testd=pd.read_csv('test_data.csv',index_col=[0])\n",
    "# checking if data was loaded correctly\n",
    "testd.head()"
   ]
  },
  {
   "cell_type": "code",
   "execution_count": 21,
   "id": "af657259",
   "metadata": {},
   "outputs": [],
   "source": [
    "# Processing our data set\n",
    "# Seperating features from targets variables[x is the feature and y is the dependent variable(target)]\n",
    "x=testd.iloc[:,:-1].values\n",
    "y=testd.iloc[:,1:2].values\n",
    "#Preprocessing the data\n",
    "x=sc.transform(x) #using standard scalar as it was for training"
   ]
  },
  {
   "cell_type": "code",
   "execution_count": 22,
   "id": "6a3951a9",
   "metadata": {},
   "outputs": [
    {
     "name": "stdout",
     "output_type": "stream",
     "text": [
      "mae: 75.28\n"
     ]
    }
   ],
   "source": [
    "# Prediction on test data with SVm\n",
    "y_pred_svm=regr_svm.predict(x)\n",
    "#print(y_pred_svm)\n",
    "# The mean squared error\n",
    "print(\"mae: %.2f\" %  mean_absolute_error(y, y_pred_svm))"
   ]
  },
  {
   "cell_type": "code",
   "execution_count": 23,
   "id": "c109d136",
   "metadata": {},
   "outputs": [
    {
     "name": "stdout",
     "output_type": "stream",
     "text": [
      "mae: 71.83\n"
     ]
    }
   ],
   "source": [
    "#Predictions on test data with DNNmodel\n",
    "y_pred=model.predict(x)\n",
    "print(\"mae: %.2f\" %  mean_absolute_error(y, y_pred))\n",
    "y_pred_DNN=np.squeeze(y_pred)# converting data to a list format\n",
    "#print(y_pred_DNN)"
   ]
  },
  {
   "cell_type": "code",
   "execution_count": 24,
   "id": "ec7cfe6d",
   "metadata": {},
   "outputs": [
    {
     "name": "stdout",
     "output_type": "stream",
     "text": [
      "AdaptiveRandomForestRegressor mean absolute error: 79.89823833756014\n"
     ]
    },
    {
     "name": "stderr",
     "output_type": "stream",
     "text": [
      "C:\\Users\\gjera\\anaconda3\\lib\\site-packages\\skmultiflow\\data\\base_stream.py:191: FutureWarning: 'prepare_for_use' has been deprecated in v0.5.0 and will be removed in v0.7.0.\n",
      "New instances of the Stream class are now ready to use after instantiation.\n",
      "  warnings.warn(\n"
     ]
    }
   ],
   "source": [
    "#prediction\n",
    "# import test data as stream\n",
    "test_stream = FileStream('test_data.csv')\n",
    "#Prepare Stream for use\n",
    "stream.prepare_for_use()\n",
    "X, y_true = test_stream.next_sample(100)\n",
    "y_pred_arf=arf_reg.predict(X)\n",
    "#print(y_pred)\n",
    "print('AdaptiveRandomForestRegressor mean absolute error: {}'.\n",
    "      format(np.mean(np.abs(y_true - y_pred_arf))))"
   ]
  },
  {
   "cell_type": "code",
   "execution_count": 25,
   "id": "2823bc97",
   "metadata": {},
   "outputs": [
    {
     "data": {
      "text/html": [
       "<div>\n",
       "<style scoped>\n",
       "    .dataframe tbody tr th:only-of-type {\n",
       "        vertical-align: middle;\n",
       "    }\n",
       "\n",
       "    .dataframe tbody tr th {\n",
       "        vertical-align: top;\n",
       "    }\n",
       "\n",
       "    .dataframe thead th {\n",
       "        text-align: right;\n",
       "    }\n",
       "</style>\n",
       "<table border=\"1\" class=\"dataframe\">\n",
       "  <thead>\n",
       "    <tr style=\"text-align: right;\">\n",
       "      <th></th>\n",
       "      <th>y_true</th>\n",
       "      <th>y_pred_svm</th>\n",
       "      <th>y_pred_DNN</th>\n",
       "      <th>y_pred_arf</th>\n",
       "    </tr>\n",
       "  </thead>\n",
       "  <tbody>\n",
       "    <tr>\n",
       "      <th>0</th>\n",
       "      <td>703.963666</td>\n",
       "      <td>704.552125</td>\n",
       "      <td>677.808533</td>\n",
       "      <td>833.005604</td>\n",
       "    </tr>\n",
       "    <tr>\n",
       "      <th>1</th>\n",
       "      <td>818.331957</td>\n",
       "      <td>814.165648</td>\n",
       "      <td>807.765503</td>\n",
       "      <td>861.365960</td>\n",
       "    </tr>\n",
       "    <tr>\n",
       "      <th>2</th>\n",
       "      <td>819.570603</td>\n",
       "      <td>815.777689</td>\n",
       "      <td>809.875793</td>\n",
       "      <td>868.231422</td>\n",
       "    </tr>\n",
       "    <tr>\n",
       "      <th>3</th>\n",
       "      <td>959.124690</td>\n",
       "      <td>866.362062</td>\n",
       "      <td>876.211792</td>\n",
       "      <td>918.083254</td>\n",
       "    </tr>\n",
       "    <tr>\n",
       "      <th>4</th>\n",
       "      <td>689.925681</td>\n",
       "      <td>691.513558</td>\n",
       "      <td>685.105713</td>\n",
       "      <td>726.028319</td>\n",
       "    </tr>\n",
       "    <tr>\n",
       "      <th>5</th>\n",
       "      <td>225.846408</td>\n",
       "      <td>747.819096</td>\n",
       "      <td>720.913025</td>\n",
       "      <td>674.881629</td>\n",
       "    </tr>\n",
       "    <tr>\n",
       "      <th>6</th>\n",
       "      <td>669.694467</td>\n",
       "      <td>738.858044</td>\n",
       "      <td>709.182373</td>\n",
       "      <td>847.639765</td>\n",
       "    </tr>\n",
       "    <tr>\n",
       "      <th>7</th>\n",
       "      <td>1000.000000</td>\n",
       "      <td>859.329137</td>\n",
       "      <td>866.887756</td>\n",
       "      <td>936.974056</td>\n",
       "    </tr>\n",
       "    <tr>\n",
       "      <th>8</th>\n",
       "      <td>766.308836</td>\n",
       "      <td>724.497182</td>\n",
       "      <td>690.382996</td>\n",
       "      <td>627.366873</td>\n",
       "    </tr>\n",
       "    <tr>\n",
       "      <th>9</th>\n",
       "      <td>925.268373</td>\n",
       "      <td>841.391230</td>\n",
       "      <td>843.405762</td>\n",
       "      <td>903.323716</td>\n",
       "    </tr>\n",
       "  </tbody>\n",
       "</table>\n",
       "</div>"
      ],
      "text/plain": [
       "        y_true  y_pred_svm  y_pred_DNN  y_pred_arf\n",
       "0   703.963666  704.552125  677.808533  833.005604\n",
       "1   818.331957  814.165648  807.765503  861.365960\n",
       "2   819.570603  815.777689  809.875793  868.231422\n",
       "3   959.124690  866.362062  876.211792  918.083254\n",
       "4   689.925681  691.513558  685.105713  726.028319\n",
       "5   225.846408  747.819096  720.913025  674.881629\n",
       "6   669.694467  738.858044  709.182373  847.639765\n",
       "7  1000.000000  859.329137  866.887756  936.974056\n",
       "8   766.308836  724.497182  690.382996  627.366873\n",
       "9   925.268373  841.391230  843.405762  903.323716"
      ]
     },
     "execution_count": 25,
     "metadata": {},
     "output_type": "execute_result"
    }
   ],
   "source": [
    "#creating a dictionary of my grown truth and predicted value\n",
    "dict={'y_true':y_true,'y_pred_svm':y_pred_svm,'y_pred_DNN':y_pred_DNN,'y_pred_arf':y_pred_arf}\n",
    "#creating a data frame \n",
    "df = pd.DataFrame(dict) \n",
    "df.head(10) "
   ]
  },
  {
   "cell_type": "code",
   "execution_count": 26,
   "id": "d9034f82",
   "metadata": {},
   "outputs": [
    {
     "data": {
      "text/plain": [
       "<AxesSubplot:>"
      ]
     },
     "execution_count": 26,
     "metadata": {},
     "output_type": "execute_result"
    },
    {
     "data": {
      "image/png": "[encoded data removed]",
      "text/plain": [
       "<Figure size 432x288 with 1 Axes>"
      ]
     },
     "metadata": {
      "needs_background": "light"
     },
     "output_type": "display_data"
    }
   ],
   "source": [
    " #Comparing grown truth with the predictions of the different algorithm\n",
    "df.plot.line()"
   ]
  },
  {
   "cell_type": "code",
   "execution_count": null,
   "id": "6f7f5604",
   "metadata": {},
   "outputs": [],
   "source": []
  }
 ],
 "metadata": {
  "kernelspec": {
   "display_name": "Python 3",
   "language": "python",
   "name": "python3"
  },
  "language_info": {
   "codemirror_mode": {
    "name": "ipython",
    "version": 3
   },
   "file_extension": ".py",
   "mimetype": "text/x-python",
   "name": "python",
   "nbconvert_exporter": "python",
   "pygments_lexer": "ipython3",
   "version": "3.8.12"
  }
 },
 "nbformat": 4,
 "nbformat_minor": 5
}
